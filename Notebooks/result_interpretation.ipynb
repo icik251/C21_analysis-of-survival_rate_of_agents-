{
 "metadata": {
  "language_info": {
   "codemirror_mode": {
    "name": "ipython",
    "version": 3
   },
   "file_extension": ".py",
   "mimetype": "text/x-python",
   "name": "python",
   "nbconvert_exporter": "python",
   "pygments_lexer": "ipython3",
   "version": "3.8.5-final"
  },
  "orig_nbformat": 2,
  "kernelspec": {
   "name": "Python 3.8.5 64-bit ('.venv')",
   "display_name": "Python 3.8.5 64-bit ('.venv')",
   "metadata": {
    "interpreter": {
     "hash": "cac5c4596420d9ed8c947ece9141b1c20e878d53dea1f47c9fd65194b9cf908c"
    }
   }
  }
 },
 "nbformat": 4,
 "nbformat_minor": 2,
 "cells": [
  {
   "cell_type": "code",
   "execution_count": 3,
   "metadata": {
    "tags": []
   },
   "outputs": [],
   "source": [
    "import json\n",
    "import ast\n",
    "\n",
    "list_of_cost_values = [1,2,3]\n",
    "list_of_agents = [30]\n",
    "list_of_cover_radius = [100, 200]\n",
    "\n",
    "dir_to_exp = \"..\\\\Experiments_centralized\\\\cover_radius_{}\\\\cost_value_{}\\\\wave_length_30\\\\exp_{}_random_seed_NONE.txt\"\n",
    "list_of_dicts_results = list()\n",
    "for cover_radius in list_of_cover_radius:\n",
    "    for cost_value in list_of_cost_values:\n",
    "        curr_dict = {'cover_radius':cover_radius, 'cost_value':cost_value, \n",
    "        'agents_survived':list(), 'comp_time':list()}\n",
    "        for i in range(100):\n",
    "            with open(dir_to_exp.format(cover_radius, cost_value, i), 'r') as f:\n",
    "                list_of_lines = f.readlines()\n",
    "                agents_survived = int(list_of_lines[1].split(':')[1])\n",
    "                str_dict_of_timestep_comp_time = (list_of_lines[13].split(':',1)[1]).split(' ',1)[1]\n",
    "                dict_of_timestep_comp_time = ast.literal_eval(str_dict_of_timestep_comp_time)\n",
    "                curr_dict['agents_survived'].append(agents_survived)\n",
    "                curr_dict['comp_time'].append(dict_of_timestep_comp_time)\n",
    "        list_of_dicts_results.append(curr_dict)"
   ]
  },
  {
   "cell_type": "code",
   "execution_count": 4,
   "metadata": {
    "tags": []
   },
   "outputs": [],
   "source": [
    "import numpy as np\n",
    "string_to_save = str()\n",
    "for dict_result in list_of_dicts_results:\n",
    "    avg_survived = np.mean(dict_result['agents_survived'])\n",
    "    std_dev_survived = np.std(dict_result['agents_survived'])\n",
    "\n",
    "    list_of_comp_times = list()\n",
    "    for comp_time_dict in dict_result['comp_time']:\n",
    "        sum_milliseconds = sum(comp_time_dict.values())/1000\n",
    "        list_of_comp_times.append(sum_milliseconds)\n",
    "\n",
    "    avg_comp_time = np.mean(list_of_comp_times)\n",
    "    std_dev_comp_time = np.std(list_of_comp_times)\n",
    "\n",
    "    string_to_save+=('Cover radius: {} \\n'.format(dict_result['cover_radius']))\n",
    "    string_to_save+=('Cost value: {} \\n'.format(dict_result['cost_value']))\n",
    "    string_to_save+=('Average survived: {} \\n'.format(avg_survived))\n",
    "    string_to_save+=('Std Dev survived: {} \\n'.format(std_dev_survived))\n",
    "    string_to_save+=('Average comp time: {} \\n'.format(avg_comp_time))\n",
    "    string_to_save+=('Std Dev comp time: {} \\n'.format(std_dev_comp_time))\n",
    "    string_to_save+=('--------------------------- \\n')"
   ]
  },
  {
   "cell_type": "code",
   "execution_count": 5,
   "metadata": {},
   "outputs": [],
   "source": [
    "with open('..\\\\ResultInterpretation\\\\new_centralized_avg_std_results.txt', 'a+') as f:\n",
    "    f.write(string_to_save)\n",
    "    f.close()"
   ]
  },
  {
   "cell_type": "code",
   "execution_count": null,
   "metadata": {},
   "outputs": [],
   "source": []
  }
 ]
}